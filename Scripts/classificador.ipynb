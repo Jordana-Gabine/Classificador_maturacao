{
 "cells": [
  {
   "cell_type": "markdown",
   "metadata": {},
   "source": [
    "# IMPORTS"
   ]
  },
  {
   "cell_type": "code",
   "execution_count": 64,
   "metadata": {},
   "outputs": [],
   "source": [
    "import os\n",
    "import matplotlib.pyplot as plt\n",
    "import tensorflow as tf\n",
    "import numpy as np\n",
    "from tensorflow.keras.preprocessing import image\n",
    "from tensorflow.keras.preprocessing.image import ImageDataGenerator"
   ]
  },
  {
   "cell_type": "markdown",
   "metadata": {},
   "source": [
    "# DATASET"
   ]
  },
  {
   "cell_type": "markdown",
   "metadata": {},
   "source": [
    "Dataset completo"
   ]
  },
  {
   "cell_type": "code",
   "execution_count": 10,
   "metadata": {},
   "outputs": [],
   "source": [
    "dataset_dir = os.path.join(os.getcwd(), 'dataset')"
   ]
  },
  {
   "cell_type": "markdown",
   "metadata": {},
   "source": [
    "Dataset treinamento"
   ]
  },
  {
   "cell_type": "code",
   "execution_count": 16,
   "metadata": {},
   "outputs": [
    {
     "name": "stdout",
     "output_type": "stream",
     "text": [
      "Total de dados de treinamento: 945\n"
     ]
    }
   ],
   "source": [
    "dataset_train = os.path.join(dataset_dir, 'training_set') # completo\n",
    "\n",
    "# verificando a quantidade de dados por classe\n",
    "dataset_train_verdes = len(os.listdir(os.path.join(dataset_train, 'verde'))) # dados de treinamento bananas verdes\n",
    "dataset_train_maduras = len(os.listdir(os.path.join(dataset_train, 'madura'))) # dados de treinamento bananas maduras\n",
    "print('Total de dados de treinamento: {}' .format(dataset_train_verdes + dataset_train_maduras))"
   ]
  },
  {
   "cell_type": "code",
   "execution_count": 17,
   "metadata": {},
   "outputs": [
    {
     "name": "stdout",
     "output_type": "stream",
     "text": [
      "Total de dados de teste: 407\n"
     ]
    }
   ],
   "source": [
    "dataset_test = os.path.join(dataset_dir, 'test_set') # completo\n",
    "\n",
    "# verificando a quantidade de dados por classe\n",
    "dataset_test_verdes = len(os.listdir(os.path.join(dataset_test, 'verde'))) # dados de treinamento bananas verdes\n",
    "dataset_test_maduras = len(os.listdir(os.path.join(dataset_test, 'madura'))) # dados de treinamento bananas maduras\n",
    "print('Total de dados de teste: {}' .format(dataset_test_verdes + dataset_test_maduras))"
   ]
  },
  {
   "cell_type": "markdown",
   "metadata": {},
   "source": [
    "# Pré Processamento de Imagens"
   ]
  },
  {
   "cell_type": "markdown",
   "metadata": {},
   "source": [
    "Definindo tamanho das imagens e características dos canais de cores (RGB)"
   ]
  },
  {
   "cell_type": "code",
   "execution_count": 19,
   "metadata": {},
   "outputs": [],
   "source": [
    "# image_width = 160\n",
    "# image_height = 160\n",
    "image_color_channel = 3 # RGB\n",
    "image_color_channel_size = 255 # valores para cada canal RGB vai de 0 a 255\n",
    "image_size = (160, 160)\n",
    "image_shape = image_size + (image_color_channel,)"
   ]
  },
  {
   "cell_type": "markdown",
   "metadata": {},
   "source": [
    "Batch Size, Epochs, Learning Rate"
   ]
  },
  {
   "cell_type": "code",
   "execution_count": 20,
   "metadata": {},
   "outputs": [],
   "source": [
    "batch_size = 32 # quantidade de features que irá trazer por vez do dataset (32 é default)\n",
    "epochs = 20 # número de vezes que irá passar pelo dataset inteiro\n",
    "learning_rate = 0.0001 # taxa de aprendizagem"
   ]
  },
  {
   "cell_type": "code",
   "execution_count": 32,
   "metadata": {},
   "outputs": [
    {
     "name": "stdout",
     "output_type": "stream",
     "text": [
      "Found 945 files belonging to 2 classes.\n",
      "Found 407 files belonging to 2 classes.\n"
     ]
    }
   ],
   "source": [
    "db_treinamento = tf.keras.preprocessing.image_dataset_from_directory(\n",
    "                                                        'dataset/training_set',\n",
    "                                                        image_size = image_size,\n",
    "                                                        batch_size = batch_size,\n",
    "                                                        shuffle = True\n",
    "                                                        )\n",
    "\n",
    "db_test = tf.keras.preprocessing.image_dataset_from_directory(\n",
    "                                                        'dataset/test_set',\n",
    "                                                        image_size = image_size,\n",
    "                                                        batch_size = batch_size,\n",
    "                                                        shuffle = True\n",
    "                                                        )                                                      "
   ]
  },
  {
   "cell_type": "markdown",
   "metadata": {},
   "source": [
    "Dataset validação - uma parte do dataset de teste para testar realmente o modelo"
   ]
  },
  {
   "cell_type": "code",
   "execution_count": 33,
   "metadata": {},
   "outputs": [
    {
     "name": "stdout",
     "output_type": "stream",
     "text": [
      "Validation Dataset Cardinality: 2\n",
      "Test Dataset Cardinality: 11\n"
     ]
    }
   ],
   "source": [
    "dataset_test_cardinality = tf.data.experimental.cardinality(db_test)\n",
    "dataset_test_batches = dataset_test_cardinality // 5\n",
    "\n",
    "db_validation = db_test.take(dataset_test_batches)\n",
    "db_test = db_test.skip(dataset_test_batches)\n",
    "\n",
    "print('Validation Dataset Cardinality: %d' % tf.data.experimental.cardinality(db_validation))\n",
    "print('Test Dataset Cardinality: %d' % tf.data.experimental.cardinality(db_test))"
   ]
  },
  {
   "cell_type": "markdown",
   "metadata": {},
   "source": [
    "# Modelo RNA Convolucional"
   ]
  },
  {
   "cell_type": "code",
   "execution_count": 54,
   "metadata": {},
   "outputs": [
    {
     "name": "stdout",
     "output_type": "stream",
     "text": [
      "Model: \"sequential_7\"\n",
      "_________________________________________________________________\n",
      " Layer (type)                Output Shape              Param #   \n",
      "=================================================================\n",
      " rescaling_4 (Rescaling)     (None, 160, 160, 3)       0         \n",
      "                                                                 \n",
      " conv2d_21 (Conv2D)          (None, 160, 160, 32)      896       \n",
      "                                                                 \n",
      " max_pooling2d_21 (MaxPoolin  (None, 80, 80, 32)       0         \n",
      " g2D)                                                            \n",
      "                                                                 \n",
      " conv2d_22 (Conv2D)          (None, 80, 80, 64)        18496     \n",
      "                                                                 \n",
      " max_pooling2d_22 (MaxPoolin  (None, 40, 40, 64)       0         \n",
      " g2D)                                                            \n",
      "                                                                 \n",
      " conv2d_23 (Conv2D)          (None, 40, 40, 64)        36928     \n",
      "                                                                 \n",
      " max_pooling2d_23 (MaxPoolin  (None, 20, 20, 64)       0         \n",
      " g2D)                                                            \n",
      "                                                                 \n",
      " flatten_7 (Flatten)         (None, 25600)             0         \n",
      "                                                                 \n",
      " dense_14 (Dense)            (None, 128)               3276928   \n",
      "                                                                 \n",
      " dense_15 (Dense)            (None, 1)                 129       \n",
      "                                                                 \n",
      "=================================================================\n",
      "Total params: 3,333,377\n",
      "Trainable params: 3,333,377\n",
      "Non-trainable params: 0\n",
      "_________________________________________________________________\n"
     ]
    }
   ],
   "source": [
    "model = tf.keras.models.Sequential([\n",
    "\n",
    "    tf.keras.layers.experimental.preprocessing.Rescaling(\n",
    "        1. / image_color_channel_size,\n",
    "        input_shape = image_shape\n",
    "    ),\n",
    "    tf.keras.layers.Conv2D(32, 3, padding = 'same', activation = 'relu'),\n",
    "    tf.keras.layers.MaxPooling2D(),\n",
    "    tf.keras.layers.Conv2D(64, 3, padding = 'same', activation = 'relu'),\n",
    "    tf.keras.layers.MaxPooling2D(),\n",
    "    tf.keras.layers.Conv2D(64, 3, padding = 'same', activation = 'relu'),\n",
    "    tf.keras.layers.MaxPooling2D(),\n",
    "    tf.keras.layers.Flatten(),\n",
    "    tf.keras.layers.Dense(128, activation = 'relu'),\n",
    "    tf.keras.layers.Dense(1, activation = 'sigmoid'),\n",
    "])\n",
    "\n",
    "model.compile(\n",
    "    optimizer = tf.keras.optimizers.Adam(learning_rate=0.0001),\n",
    "    loss = tf.keras.losses.BinaryCrossentropy(),\n",
    "    metrics = ['accuracy']\n",
    ")\n",
    "\n",
    "model.summary()"
   ]
  },
  {
   "cell_type": "code",
   "execution_count": 55,
   "metadata": {},
   "outputs": [
    {
     "name": "stdout",
     "output_type": "stream",
     "text": [
      "Epoch 1/20\n",
      "30/30 [==============================] - 19s 584ms/step - loss: 0.3124 - accuracy: 0.8741 - val_loss: 0.1968 - val_accuracy: 0.9125\n",
      "Epoch 2/20\n",
      "30/30 [==============================] - 18s 581ms/step - loss: 0.1360 - accuracy: 0.9429 - val_loss: 0.0699 - val_accuracy: 0.9971\n",
      "Epoch 3/20\n",
      "30/30 [==============================] - 18s 584ms/step - loss: 0.0447 - accuracy: 0.9894 - val_loss: 0.0314 - val_accuracy: 0.9971\n",
      "Epoch 4/20\n",
      "30/30 [==============================] - 18s 593ms/step - loss: 0.0209 - accuracy: 0.9937 - val_loss: 0.0174 - val_accuracy: 0.9942\n",
      "Epoch 5/20\n",
      "30/30 [==============================] - 17s 568ms/step - loss: 0.0115 - accuracy: 0.9968 - val_loss: 0.0133 - val_accuracy: 0.9971\n",
      "Epoch 6/20\n",
      "30/30 [==============================] - 18s 577ms/step - loss: 0.0053 - accuracy: 1.0000 - val_loss: 0.0154 - val_accuracy: 0.9942\n",
      "Epoch 7/20\n",
      "30/30 [==============================] - 18s 575ms/step - loss: 0.0046 - accuracy: 0.9989 - val_loss: 0.0265 - val_accuracy: 0.9942\n",
      "Epoch 8/20\n",
      "30/30 [==============================] - 18s 577ms/step - loss: 0.0042 - accuracy: 1.0000 - val_loss: 0.0194 - val_accuracy: 0.9942\n",
      "Epoch 9/20\n",
      "30/30 [==============================] - 18s 579ms/step - loss: 0.0022 - accuracy: 1.0000 - val_loss: 0.0189 - val_accuracy: 0.9942\n",
      "Epoch 10/20\n",
      "30/30 [==============================] - 18s 584ms/step - loss: 0.0014 - accuracy: 1.0000 - val_loss: 0.0210 - val_accuracy: 0.9942\n",
      "Epoch 11/20\n",
      "30/30 [==============================] - 18s 592ms/step - loss: 0.0013 - accuracy: 1.0000 - val_loss: 0.0215 - val_accuracy: 0.9942\n",
      "Epoch 12/20\n",
      "30/30 [==============================] - 18s 594ms/step - loss: 0.0011 - accuracy: 1.0000 - val_loss: 0.0154 - val_accuracy: 0.9942\n",
      "Epoch 13/20\n",
      "30/30 [==============================] - 18s 577ms/step - loss: 8.3656e-04 - accuracy: 1.0000 - val_loss: 3.6971e-04 - val_accuracy: 1.0000\n",
      "Epoch 14/20\n",
      "30/30 [==============================] - 18s 580ms/step - loss: 6.5841e-04 - accuracy: 1.0000 - val_loss: 0.0215 - val_accuracy: 0.9942\n",
      "Epoch 15/20\n",
      "30/30 [==============================] - 18s 579ms/step - loss: 5.6528e-04 - accuracy: 1.0000 - val_loss: 0.0218 - val_accuracy: 0.9942\n",
      "Epoch 16/20\n",
      "30/30 [==============================] - 18s 577ms/step - loss: 4.8802e-04 - accuracy: 1.0000 - val_loss: 0.0051 - val_accuracy: 0.9971\n",
      "Epoch 17/20\n",
      "30/30 [==============================] - 18s 576ms/step - loss: 4.5268e-04 - accuracy: 1.0000 - val_loss: 0.0181 - val_accuracy: 0.9971\n",
      "Epoch 18/20\n",
      "30/30 [==============================] - 18s 579ms/step - loss: 3.9774e-04 - accuracy: 1.0000 - val_loss: 0.0055 - val_accuracy: 0.9971\n",
      "Epoch 19/20\n",
      "30/30 [==============================] - 18s 585ms/step - loss: 3.4052e-04 - accuracy: 1.0000 - val_loss: 0.0237 - val_accuracy: 0.9942\n",
      "Epoch 20/20\n",
      "30/30 [==============================] - 18s 583ms/step - loss: 3.0148e-04 - accuracy: 1.0000 - val_loss: 0.0056 - val_accuracy: 0.9971\n"
     ]
    }
   ],
   "source": [
    "history = model.fit(\n",
    "    db_treinamento,\n",
    "    validation_data = db_test,\n",
    "    epochs = epochs\n",
    ")"
   ]
  },
  {
   "cell_type": "markdown",
   "metadata": {},
   "source": [
    "# Validação"
   ]
  },
  {
   "cell_type": "code",
   "execution_count": 68,
   "metadata": {},
   "outputs": [],
   "source": [
    "def plot_model():\n",
    "    accuracy = history.history['accuracy']\n",
    "    val_accuracy = history.history['val_accuracy']\n",
    "\n",
    "    loss = history.history['loss']\n",
    "    val_loss = history.history['val_loss']\n",
    "\n",
    "    epochs_range = range(epochs)\n",
    "\n",
    "    plt.gcf().clear()\n",
    "    plt.figure(figsize=(15,8))\n",
    "\n",
    "    plt.subplot(1,2,1)\n",
    "    plt.plot(epochs_range, accuracy)\n",
    "    plt.plot(epochs_range, val_accuracy)\n",
    "\n",
    "    plt.subplot(1,2,2)\n",
    "    plt.plot(epochs_range, loss)\n",
    "    plt.plot(epochs_range, val_loss)\n",
    "\n",
    "    plt.show()"
   ]
  },
  {
   "cell_type": "code",
   "execution_count": 69,
   "metadata": {},
   "outputs": [
    {
     "data": {
      "text/plain": [
       "<Figure size 640x480 with 0 Axes>"
      ]
     },
     "metadata": {},
     "output_type": "display_data"
    },
    {
     "data": {
      "image/png": "[encoded data removed]",
      "text/plain": [
       "<Figure size 1500x800 with 2 Axes>"
      ]
     },
     "metadata": {},
     "output_type": "display_data"
    }
   ],
   "source": [
    "plot_model()"
   ]
  },
  {
   "cell_type": "markdown",
   "metadata": {},
   "source": [
    "# Salvando Modelo"
   ]
  },
  {
   "cell_type": "code",
   "execution_count": 58,
   "metadata": {},
   "outputs": [
    {
     "name": "stderr",
     "output_type": "stream",
     "text": [
      "WARNING:absl:Found untraced functions such as _jit_compiled_convolution_op, _jit_compiled_convolution_op, _jit_compiled_convolution_op while saving (showing 3 of 3). These functions will not be directly callable after loading.\n"
     ]
    },
    {
     "name": "stdout",
     "output_type": "stream",
     "text": [
      "INFO:tensorflow:Assets written to: model\\assets\n"
     ]
    },
    {
     "name": "stderr",
     "output_type": "stream",
     "text": [
      "INFO:tensorflow:Assets written to: model\\assets\n"
     ]
    }
   ],
   "source": [
    "model.save('model')"
   ]
  },
  {
   "cell_type": "code",
   "execution_count": 59,
   "metadata": {},
   "outputs": [],
   "source": [
    "model = tf.keras.models.load_model('model')"
   ]
  },
  {
   "cell_type": "markdown",
   "metadata": {},
   "source": [
    "# Classificando uma imagem fora do dataset"
   ]
  }
 ],
 "metadata": {
  "kernelspec": {
   "display_name": "Python 3.10.2 64-bit",
   "language": "python",
   "name": "python3"
  },
  "language_info": {
   "codemirror_mode": {
    "name": "ipython",
    "version": 3
   },
   "file_extension": ".py",
   "mimetype": "text/x-python",
   "name": "python",
   "nbconvert_exporter": "python",
   "pygments_lexer": "ipython3",
   "version": "3.10.2"
  },
  "orig_nbformat": 4,
  "vscode": {
   "interpreter": {
    "hash": "afb734500600fd355917ca529030176ea0ca205570884b88f2f6f7d791fd3fbe"
   }
  }
 },
 "nbformat": 4,
 "nbformat_minor": 2
}
